{
 "cells": [
  {
   "cell_type": "code",
   "execution_count": 1,
   "id": "1740f251",
   "metadata": {
    "_cell_guid": "b1076dfc-b9ad-4769-8c92-a6c4dae69d19",
    "_uuid": "8f2839f25d086af736a60e9eeb907d3b93b6e0e5",
    "execution": {
     "iopub.execute_input": "2025-03-01T08:04:42.058475Z",
     "iopub.status.busy": "2025-03-01T08:04:42.057971Z",
     "iopub.status.idle": "2025-03-01T08:04:43.141391Z",
     "shell.execute_reply": "2025-03-01T08:04:43.140190Z"
    },
    "papermill": {
     "duration": 1.089769,
     "end_time": "2025-03-01T08:04:43.143297",
     "exception": false,
     "start_time": "2025-03-01T08:04:42.053528",
     "status": "completed"
    },
    "tags": []
   },
   "outputs": [],
   "source": [
    "# This Python 3 environment comes with many helpful analytics libraries installed\n",
    "# It is defined by the kaggle/python Docker image: https://github.com/kaggle/docker-python\n",
    "# For example, here's several helpful packages to load\n",
    "\n",
    "import numpy as np # linear algebra\n",
    "import pandas as pd # data processing, CSV file I/O (e.g. pd.read_csv)\n",
    "\n",
    "# Input data files are available in the read-only \"../input/\" directory\n",
    "# For example, running this (by clicking run or pressing Shift+Enter) will list all files under the input directory\n",
    "\n",
    "import os\n",
    "for dirname, _, filenames in os.walk('/kaggle/input'):\n",
    "    for filename in filenames:\n",
    "        print(os.path.join(dirname, filename))\n",
    "\n",
    "#import tensorflow as tf\n",
    "import numpy as np\n",
    "import matplotlib.pyplot as plt\n",
    "import time\n",
    "import os\n",
    "seed_value = 42\n",
    "np.random.seed(seed_value)\n",
    "os.environ['PYTHONHASHSEED'] = str(seed_value)  # For full reproducibility\n",
    "# You can write up to 20GB to the current directory (/kaggle/working/) that gets preserved as output when you create a version using \"Save & Run All\" \n",
    "# You can also write temporary files to /kaggle/temp/, but they won't be saved outside of the current session\n",
    "\n",
    "# --- Improved Plot Settings ---\n",
    "plt.close('all')\n",
    "plt.rcParams.update({\n",
    "    'font.family': 'serif',\n",
    "    'font.serif': 'Times New Roman',\n",
    "    'font.size': 12,\n",
    "    'figure.dpi': 100,\n",
    "    'figure.figsize': (6, 4),\n",
    "    'axes.grid': True,\n",
    "    'grid.alpha': 0.5,\n",
    "    'lines.linewidth': 2,\n",
    "    'savefig.bbox': 'tight',\n",
    "    'savefig.dpi': 300\n",
    "})"
   ]
  },
  {
   "cell_type": "code",
   "execution_count": 2,
   "id": "3316f8e3",
   "metadata": {
    "collapsed": true,
    "execution": {
     "iopub.execute_input": "2025-03-01T08:04:43.149736Z",
     "iopub.status.busy": "2025-03-01T08:04:43.149261Z",
     "iopub.status.idle": "2025-03-01T08:04:49.824419Z",
     "shell.execute_reply": "2025-03-01T08:04:49.822435Z"
    },
    "jupyter": {
     "outputs_hidden": true
    },
    "papermill": {
     "duration": 6.680109,
     "end_time": "2025-03-01T08:04:49.826303",
     "exception": false,
     "start_time": "2025-03-01T08:04:43.146194",
     "status": "completed"
    },
    "tags": []
   },
   "outputs": [
    {
     "name": "stdout",
     "output_type": "stream",
     "text": [
      "Collecting deepxde\r\n",
      "  Downloading DeepXDE-1.13.1-py3-none-any.whl.metadata (12 kB)\r\n",
      "Requirement already satisfied: matplotlib in /usr/local/lib/python3.10/dist-packages (from deepxde) (3.7.5)\r\n",
      "Requirement already satisfied: numpy in /usr/local/lib/python3.10/dist-packages (from deepxde) (1.26.4)\r\n",
      "Requirement already satisfied: scikit-learn in /usr/local/lib/python3.10/dist-packages (from deepxde) (1.2.2)\r\n",
      "Requirement already satisfied: scikit-optimize>=0.9.0 in /usr/local/lib/python3.10/dist-packages (from deepxde) (0.10.2)\r\n",
      "Requirement already satisfied: scipy in /usr/local/lib/python3.10/dist-packages (from deepxde) (1.13.1)\r\n",
      "Requirement already satisfied: joblib>=0.11 in /usr/local/lib/python3.10/dist-packages (from scikit-optimize>=0.9.0->deepxde) (1.4.2)\r\n",
      "Requirement already satisfied: pyaml>=16.9 in /usr/local/lib/python3.10/dist-packages (from scikit-optimize>=0.9.0->deepxde) (25.1.0)\r\n",
      "Requirement already satisfied: packaging>=21.3 in /usr/local/lib/python3.10/dist-packages (from scikit-optimize>=0.9.0->deepxde) (24.2)\r\n",
      "Requirement already satisfied: mkl_fft in /usr/local/lib/python3.10/dist-packages (from numpy->deepxde) (1.3.8)\r\n",
      "Requirement already satisfied: mkl_random in /usr/local/lib/python3.10/dist-packages (from numpy->deepxde) (1.2.4)\r\n",
      "Requirement already satisfied: mkl_umath in /usr/local/lib/python3.10/dist-packages (from numpy->deepxde) (0.1.1)\r\n",
      "Requirement already satisfied: mkl in /usr/local/lib/python3.10/dist-packages (from numpy->deepxde) (2025.0.1)\r\n",
      "Requirement already satisfied: tbb4py in /usr/local/lib/python3.10/dist-packages (from numpy->deepxde) (2022.0.0)\r\n",
      "Requirement already satisfied: mkl-service in /usr/local/lib/python3.10/dist-packages (from numpy->deepxde) (2.4.1)\r\n",
      "Requirement already satisfied: threadpoolctl>=2.0.0 in /usr/local/lib/python3.10/dist-packages (from scikit-learn->deepxde) (3.5.0)\r\n",
      "Requirement already satisfied: contourpy>=1.0.1 in /usr/local/lib/python3.10/dist-packages (from matplotlib->deepxde) (1.3.1)\r\n",
      "Requirement already satisfied: cycler>=0.10 in /usr/local/lib/python3.10/dist-packages (from matplotlib->deepxde) (0.12.1)\r\n",
      "Requirement already satisfied: fonttools>=4.22.0 in /usr/local/lib/python3.10/dist-packages (from matplotlib->deepxde) (4.55.3)\r\n",
      "Requirement already satisfied: kiwisolver>=1.0.1 in /usr/local/lib/python3.10/dist-packages (from matplotlib->deepxde) (1.4.7)\r\n",
      "Requirement already satisfied: pillow>=6.2.0 in /usr/local/lib/python3.10/dist-packages (from matplotlib->deepxde) (11.0.0)\r\n",
      "Requirement already satisfied: pyparsing>=2.3.1 in /usr/local/lib/python3.10/dist-packages (from matplotlib->deepxde) (3.2.0)\r\n",
      "Requirement already satisfied: python-dateutil>=2.7 in /usr/local/lib/python3.10/dist-packages (from matplotlib->deepxde) (2.9.0.post0)\r\n",
      "Requirement already satisfied: PyYAML in /usr/local/lib/python3.10/dist-packages (from pyaml>=16.9->scikit-optimize>=0.9.0->deepxde) (6.0.2)\r\n",
      "Requirement already satisfied: six>=1.5 in /usr/local/lib/python3.10/dist-packages (from python-dateutil>=2.7->matplotlib->deepxde) (1.17.0)\r\n",
      "Requirement already satisfied: intel-openmp>=2024 in /usr/local/lib/python3.10/dist-packages (from mkl->numpy->deepxde) (2024.2.0)\r\n",
      "Requirement already satisfied: tbb==2022.* in /usr/local/lib/python3.10/dist-packages (from mkl->numpy->deepxde) (2022.0.0)\r\n",
      "Requirement already satisfied: tcmlib==1.* in /usr/local/lib/python3.10/dist-packages (from tbb==2022.*->mkl->numpy->deepxde) (1.2.0)\r\n",
      "Requirement already satisfied: intel-cmplr-lib-rt in /usr/local/lib/python3.10/dist-packages (from mkl_umath->numpy->deepxde) (2024.2.0)\r\n",
      "Requirement already satisfied: intel-cmplr-lib-ur==2024.2.0 in /usr/local/lib/python3.10/dist-packages (from intel-openmp>=2024->mkl->numpy->deepxde) (2024.2.0)\r\n",
      "Downloading DeepXDE-1.13.1-py3-none-any.whl (190 kB)\r\n",
      "\u001b[2K   \u001b[90m━━━━━━━━━━━━━━━━━━━━━━━━━━━━━━━━━━━━━━━━\u001b[0m \u001b[32m190.7/190.7 kB\u001b[0m \u001b[31m4.2 MB/s\u001b[0m eta \u001b[36m0:00:00\u001b[0m\r\n",
      "\u001b[?25hInstalling collected packages: deepxde\r\n",
      "Successfully installed deepxde-1.13.1\r\n",
      "Note: you may need to restart the kernel to use updated packages.\n"
     ]
    }
   ],
   "source": [
    "pip install deepxde"
   ]
  },
  {
   "cell_type": "code",
   "execution_count": 3,
   "id": "15faa533",
   "metadata": {
    "execution": {
     "iopub.execute_input": "2025-03-01T08:04:49.834309Z",
     "iopub.status.busy": "2025-03-01T08:04:49.833637Z",
     "iopub.status.idle": "2025-03-01T08:05:07.926873Z",
     "shell.execute_reply": "2025-03-01T08:05:07.925593Z"
    },
    "papermill": {
     "duration": 18.099486,
     "end_time": "2025-03-01T08:05:07.928968",
     "exception": false,
     "start_time": "2025-03-01T08:04:49.829482",
     "status": "completed"
    },
    "tags": []
   },
   "outputs": [
    {
     "name": "stdout",
     "output_type": "stream",
     "text": [
      "No backend selected.\n",
      "Finding available backend...\n"
     ]
    },
    {
     "name": "stderr",
     "output_type": "stream",
     "text": [
      "Using backend: tensorflow.compat.v1\n",
      "Other supported backends: tensorflow, pytorch, jax, paddle.\n",
      "paddle supports more examples now and is recommended.\n"
     ]
    },
    {
     "name": "stdout",
     "output_type": "stream",
     "text": [
      "Found tensorflow.compat.v1\n",
      "Setting the default backend to \"tensorflow.compat.v1\". You can change it in the ~/.deepxde/config.json file or export the DDE_BACKEND environment variable. Valid options are: tensorflow.compat.v1, tensorflow, pytorch, jax, paddle (all lowercase)\n"
     ]
    }
   ],
   "source": [
    "import deepxde as dde\n",
    "from deepxde.backend import tf\n",
    "#tf.random.set_seed(seed_value)"
   ]
  },
  {
   "cell_type": "markdown",
   "id": "92c8e894",
   "metadata": {
    "papermill": {
     "duration": 0.003041,
     "end_time": "2025-03-01T08:05:07.935766",
     "exception": false,
     "start_time": "2025-03-01T08:05:07.932725",
     "status": "completed"
    },
    "tags": []
   },
   "source": [
    "#  Super Grok!"
   ]
  },
  {
   "cell_type": "code",
   "execution_count": 4,
   "id": "654fbce3",
   "metadata": {
    "execution": {
     "iopub.execute_input": "2025-03-01T08:05:07.945231Z",
     "iopub.status.busy": "2025-03-01T08:05:07.944544Z",
     "iopub.status.idle": "2025-03-01T08:05:17.373432Z",
     "shell.execute_reply": "2025-03-01T08:05:17.372246Z"
    },
    "papermill": {
     "duration": 9.436213,
     "end_time": "2025-03-01T08:05:17.375457",
     "exception": false,
     "start_time": "2025-03-01T08:05:07.939244",
     "status": "completed"
    },
    "tags": []
   },
   "outputs": [
    {
     "name": "stdout",
     "output_type": "stream",
     "text": [
      "Compiling model...\n",
      "Building feed-forward neural network...\n",
      "'build' took 0.106386 s\n",
      "\n",
      "'compile' took 2.968534 s\n",
      "\n",
      "Training model...\n",
      "\n",
      "Step      Train loss                        Test loss                         Test metric\n",
      "0         [2.53e+11, 3.09e-07, 3.26e+10]    [2.54e+11, 3.09e-07, 3.26e+10]    []  \n",
      "1000      [nan, nan, nan]                   [nan, nan, nan]                   []  \n",
      "\n",
      "Best model at step 0:\n",
      "  train loss: 2.86e+11\n",
      "  test loss: 2.87e+11\n",
      "  test metric: []\n",
      "\n",
      "'train' took 4.951082 s\n",
      "\n",
      "Saving loss history to /kaggle/working/loss.dat ...\n",
      "Saving training data to /kaggle/working/train.dat ...\n",
      "Saving test data to /kaggle/working/test.dat ...\n"
     ]
    },
    {
     "data": {
      "image/png": "[encoded data removed]",
      "text/plain": [
       "<Figure size 600x400 with 1 Axes>"
      ]
     },
     "metadata": {},
     "output_type": "display_data"
    },
    {
     "data": {
      "image/png": "[encoded data removed]",
      "text/plain": [
       "<Figure size 600x400 with 1 Axes>"
      ]
     },
     "metadata": {},
     "output_type": "display_data"
    },
    {
     "data": {
      "image/png": "[encoded data removed]",
      "text/plain": [
       "<Figure size 600x400 with 1 Axes>"
      ]
     },
     "metadata": {},
     "output_type": "display_data"
    }
   ],
   "source": [
    "import deepxde as dde\n",
    "import tensorflow as tf\n",
    "import matplotlib.pyplot as plt\n",
    "\n",
    "# Define the radial stress function Prr\n",
    "def Prr(R, r):\n",
    "    r_R = r\n",
    "    R_2 = tf.pow(R, 2.0)\n",
    "    dr_dR = dde.grad.jacobian(r, R)\n",
    "    r_R_2 = tf.pow(r_R, 2.0)\n",
    "    dr_dR_2 = tf.pow(dr_dR, 2.0)\n",
    "    \n",
    "\n",
    "    #term_common = dr_dR_2 * r_R_2 / R_2\n",
    "    epsilon = 1e-5\n",
    "    \n",
    "    term_common = dr_dR_2 * r_R_2 / (R_2 + epsilon)\n",
    "\n",
    "    term1_numerator_rr = tf.pow(4.0, 2.0/3.0) * (dr_dR_2 + r_R_2 / (R_2 + epsilon) + 4) * dr_dR * r_R_2\n",
    "    term1_denumerator_rr = 6.0 * R_2 * tf.pow(term_common, 4.0/3.0) + epsilon\n",
    "\n",
    "    term2_numerator_rr = tf.pow(4.0, 2.0/3.0) * dr_dR\n",
    "    term2_denumerator_rr = 2.0 *  tf.pow(term_common, 1.0/3.0) + epsilon\n",
    "\n",
    "    term3_numerator_rr = (2.0 * tf.pow(term_common, 1.0/2.0) - 1.0) * 2.0 * dr_dR * r_R_2\n",
    "\n",
    "    term3_denumerator_rr = tf.pow(term_common, 1.0/2.0) * R_2 + epsilon\n",
    "\n",
    "    Prr_final = 1500.0 * (-term1_numerator_rr / term1_denumerator_rr + term2_numerator_rr / term2_denumerator_rr) + 5000.0 * term3_numerator_rr / term3_denumerator_rr\n",
    "    #Prr_final = 1500.0 * term1_numerator_rr / (term1_denumerator_rr + epsilon)\n",
    "\n",
    "    #Prr_final = check_nan(Prr_final, \"Prr_final\")\n",
    "    \n",
    "    return Prr_final\n",
    "\n",
    "\n",
    "def Ptt(R, r):\n",
    "    r_R = r\n",
    "    R_2 = tf.pow(R, 2.0)\n",
    "    dr_dR = dde.grad.jacobian(r, R, i=0, j=0)\n",
    "    r_R_2 = tf.pow(r_R, 2.0)\n",
    "    dr_dR_2 = tf.pow(dr_dR, 2.0)\n",
    "    epsilon = 1e-5\n",
    "    \n",
    "\n",
    "    term_common = dr_dR_2 * r_R_2 / (R_2 + epsilon)\n",
    "\n",
    "    term1_numerator_tt = tf.pow(4.0, 2.0/3.0) * (dr_dR_2 + r_R_2 / (R_2 + epsilon) + 4) * dr_dR_2 * r_R\n",
    "    term1_denumerator_tt = 6.0 * R * tf.pow(term_common, 4.0/3.0) + epsilon\n",
    "\n",
    "    term2_numerator_tt = tf.pow(4.0, 2.0/3.0) * r_R\n",
    "    term2_denumerator_tt = 2.0 * R *  tf.pow(term_common, 1.0/3.0) + epsilon\n",
    "\n",
    "    term3_numerator_tt = (2.0 * tf.pow(term_common, 1.0/2.0) - 1.0) * 2.0 * dr_dR_2 * r_R\n",
    "\n",
    "    term3_denumerator_tt = tf.pow(term_common, 1.0/2.0) * R + epsilon\n",
    "    \n",
    "    Pthetatheta = 1500.0 * (-term1_numerator_tt / term1_denumerator_tt + term2_numerator_tt / term2_denumerator_tt) + 5000.0 * term3_numerator_tt / term3_denumerator_tt\n",
    "\n",
    "    #Pthetatheta = 1500.0 * (-term1_numerator_tt / term1_denumerator_tt)# + term2_numerator_tt / term2_denumerator_tt)\n",
    "    #Pthetatheta = 1500.0 * -term1_numerator_tt / (term1_denumerator_tt + epsilon)\n",
    "                            \n",
    "    return Pthetatheta\n",
    "\n",
    "# Define the PDE\n",
    "def pde(R, r):\n",
    "    epsilon = 1e-5\n",
    "    return dde.grad.jacobian(Prr(R, r), R, i=0, j=0) + Prr(R, r) / (R + epsilon) + Ptt(R, r) / (R + epsilon)\n",
    "\n",
    "# Define boundary functions\n",
    "def boundary_left(R, on_boundary):\n",
    "    return on_boundary and dde.utils.isclose(R[0], 1e-2)\n",
    "\n",
    "def boundary_right(R, on_boundary):\n",
    "    return on_boundary and dde.utils.isclose(R[0], 1)\n",
    "\n",
    "# Define the geometry\n",
    "geom = dde.geometry.Interval(1e-2, 1)\n",
    "\n",
    "# Dirichlet BC at R = 1e-5\n",
    "bc1 = dde.icbc.DirichletBC(geom, lambda x: 0, boundary_left)\n",
    "\n",
    "# Custom BC at R = 1: Prr = 0\n",
    "def bc2_func(inputs, outputs, X):\n",
    "    return Prr(inputs, outputs)\n",
    "\n",
    "bc2 = dde.icbc.OperatorBC(geom, bc2_func, boundary_right)\n",
    "\n",
    "# Define the PDE problem\n",
    "data = dde.data.PDE(geom, pde, [bc1, bc2], num_domain=100, num_boundary=2, num_test=200)\n",
    "\n",
    "# Define the neural network\n",
    "activation = \"tanh\"\n",
    "initialization = \"Glorot uniform\"\n",
    "network = dde.nn.FNN([1] + [50] * 4 + [1], activation, initialization)\n",
    "\n",
    "# Create and compile the model\n",
    "model = dde.Model(data, network)\n",
    "model.compile(\"adam\", lr=1e-3)\n",
    "\n",
    "# Train the model\n",
    "losshistory, train_state = model.train(iterations=10000)\n",
    "\n",
    "# Save and plot the training results\n",
    "dde.saveplot(losshistory, train_state, issave=True, isplot=True)\n",
    "\n",
    "# Plot the PDE residual\n",
    "x = geom.uniform_points(1000, True)\n",
    "y = model.predict(x, operator=pde)\n",
    "plt.figure()\n",
    "plt.plot(x, y)\n",
    "plt.xlabel(\"R\")\n",
    "plt.ylabel(\"PDE residual\")\n",
    "plt.show()"
   ]
  },
  {
   "cell_type": "code",
   "execution_count": null,
   "id": "dfe056cb",
   "metadata": {
    "papermill": {
     "duration": 0.005443,
     "end_time": "2025-03-01T08:05:17.386374",
     "exception": false,
     "start_time": "2025-03-01T08:05:17.380931",
     "status": "completed"
    },
    "tags": []
   },
   "outputs": [],
   "source": []
  },
  {
   "cell_type": "markdown",
   "id": "ce28b54f",
   "metadata": {
    "papermill": {
     "duration": 0.005209,
     "end_time": "2025-03-01T08:05:17.397142",
     "exception": false,
     "start_time": "2025-03-01T08:05:17.391933",
     "status": "completed"
    },
    "tags": []
   },
   "source": [
    "# Grok 2"
   ]
  }
 ],
 "metadata": {
  "kaggle": {
   "accelerator": "none",
   "dataSources": [],
   "dockerImageVersionId": 30918,
   "isGpuEnabled": false,
   "isInternetEnabled": true,
   "language": "python",
   "sourceType": "notebook"
  },
  "kernelspec": {
   "display_name": "Python 3",
   "language": "python",
   "name": "python3"
  },
  "language_info": {
   "codemirror_mode": {
    "name": "ipython",
    "version": 3
   },
   "file_extension": ".py",
   "mimetype": "text/x-python",
   "name": "python",
   "nbconvert_exporter": "python",
   "pygments_lexer": "ipython3",
   "version": "3.10.12"
  },
  "papermill": {
   "default_parameters": {},
   "duration": 40.126132,
   "end_time": "2025-03-01T08:05:19.229363",
   "environment_variables": {},
   "exception": null,
   "input_path": "__notebook__.ipynb",
   "output_path": "__notebook__.ipynb",
   "parameters": {},
   "start_time": "2025-03-01T08:04:39.103231",
   "version": "2.6.0"
  }
 },
 "nbformat": 4,
 "nbformat_minor": 5
}
