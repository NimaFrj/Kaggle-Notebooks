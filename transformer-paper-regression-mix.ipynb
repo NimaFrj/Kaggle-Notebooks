{
 "cells": [
  {
   "cell_type": "code",
   "execution_count": 1,
   "id": "93d3b284",
   "metadata": {
    "_cell_guid": "b1076dfc-b9ad-4769-8c92-a6c4dae69d19",
    "_uuid": "8f2839f25d086af736a60e9eeb907d3b93b6e0e5",
    "execution": {
     "iopub.execute_input": "2023-06-04T14:58:02.262546Z",
     "iopub.status.busy": "2023-06-04T14:58:02.261894Z",
     "iopub.status.idle": "2023-06-04T14:58:02.271653Z",
     "shell.execute_reply": "2023-06-04T14:58:02.270707Z"
    },
    "papermill": {
     "duration": 0.02699,
     "end_time": "2023-06-04T14:58:02.274393",
     "exception": false,
     "start_time": "2023-06-04T14:58:02.247403",
     "status": "completed"
    },
    "tags": []
   },
   "outputs": [],
   "source": [
    "import numpy as np\n",
    "import pandas as pd\n",
    "import matplotlib.pyplot as plt\n",
    "import random\n",
    "random.seed(42)\n",
    "np.random.seed(42)"
   ]
  },
  {
   "cell_type": "markdown",
   "id": "9e4de1f0",
   "metadata": {
    "papermill": {
     "duration": 0.007707,
     "end_time": "2023-06-04T14:58:02.291991",
     "exception": false,
     "start_time": "2023-06-04T14:58:02.284284",
     "status": "completed"
    },
    "tags": []
   },
   "source": [
    "Here, we have loaded the data and set Furan as the label.\n",
    "At first, we have used 25 percent of the dataset A as the test set to come up with a good model, and then use this model to test in the dataset B."
   ]
  },
  {
   "cell_type": "code",
   "execution_count": 2,
   "id": "6adcf427",
   "metadata": {
    "execution": {
     "iopub.execute_input": "2023-06-04T14:58:02.311765Z",
     "iopub.status.busy": "2023-06-04T14:58:02.310933Z",
     "iopub.status.idle": "2023-06-04T14:58:02.384369Z",
     "shell.execute_reply": "2023-06-04T14:58:02.383158Z"
    },
    "papermill": {
     "duration": 0.085937,
     "end_time": "2023-06-04T14:58:02.387273",
     "exception": false,
     "start_time": "2023-06-04T14:58:02.301336",
     "status": "completed"
    },
    "tags": []
   },
   "outputs": [],
   "source": [
    "ds_A = pd.read_csv(\"/kaggle/input/transformer/DatasetA.csv\")\n",
    "ds_B = pd.read_csv(\"/kaggle/input/transformer/DatasetB.csv\")\n",
    "\n",
    "ds_A_new = ds_A.drop(set(ds_A.columns) - set(ds_B.columns), axis=1)\n",
    "ds_B_new = ds_B[ds_A_new.columns]\n",
    "\n",
    "ds_mix = pd.concat([ds_A_new, ds_B_new]).sample(frac=1).reset_index(drop=True)\n",
    "y_mix = ds_mix['Furan']\n",
    "X_mix = ds_mix.drop([\"Furan\", \"HI\"], axis = 1)\n",
    "\n",
    "# For Dataset B\n",
    "y_B = ds_B_new['Furan']\n",
    "X_B = ds_B_new.drop([\"Furan\", \"HI\"], axis = 1)\n",
    "\n",
    "# The code below is for the second case, where we train the data for the whole\n",
    "# Dataset A and test it on Dataset B\n",
    "y_A = ds_A_new['Furan']\n",
    "X_A = ds_A_new.drop([\"Furan\", \"HI\"], axis = 1)\n",
    "\n",
    "y_stratify = pd.DataFrame(y_mix.copy())\n",
    "bins = [-1, 0.1, 1, 100]\n",
    "labels = [0, 1, 2]\n",
    "y_stratify['Class'] = pd.cut(y_stratify['Furan'], bins=bins, labels=labels)\n",
    "y_stratify = y_stratify.drop([\"Furan\"], axis = 1) "
   ]
  },
  {
   "cell_type": "code",
   "execution_count": 3,
   "id": "9bdaed2a",
   "metadata": {
    "execution": {
     "iopub.execute_input": "2023-06-04T14:58:02.405883Z",
     "iopub.status.busy": "2023-06-04T14:58:02.404311Z",
     "iopub.status.idle": "2023-06-04T14:58:02.409760Z",
     "shell.execute_reply": "2023-06-04T14:58:02.408814Z"
    },
    "papermill": {
     "duration": 0.016666,
     "end_time": "2023-06-04T14:58:02.411903",
     "exception": false,
     "start_time": "2023-06-04T14:58:02.395237",
     "status": "completed"
    },
    "tags": []
   },
   "outputs": [],
   "source": [
    "#ds_mix.hist(bins=50, figsize=(20,15))"
   ]
  },
  {
   "cell_type": "markdown",
   "id": "64ca7a6a",
   "metadata": {
    "papermill": {
     "duration": 0.007293,
     "end_time": "2023-06-04T14:58:02.426841",
     "exception": false,
     "start_time": "2023-06-04T14:58:02.419548",
     "status": "completed"
    },
    "tags": []
   },
   "source": [
    "The code below performs feature selection via step-wise regression or SequentialFeatureSelector. \"n_features_to_select\" is a hyperparameter that defines how many feature we'd like to keep which needs to be fine tuned. In our experiment, 5 or 7 features to keep, results in better models. Here we used 7."
   ]
  },
  {
   "cell_type": "code",
   "execution_count": 4,
   "id": "0011bd5a",
   "metadata": {
    "execution": {
     "iopub.execute_input": "2023-06-04T14:58:02.444274Z",
     "iopub.status.busy": "2023-06-04T14:58:02.443860Z",
     "iopub.status.idle": "2023-06-04T14:58:02.453365Z",
     "shell.execute_reply": "2023-06-04T14:58:02.452092Z"
    },
    "papermill": {
     "duration": 0.021312,
     "end_time": "2023-06-04T14:58:02.455784",
     "exception": false,
     "start_time": "2023-06-04T14:58:02.434472",
     "status": "completed"
    },
    "tags": []
   },
   "outputs": [
    {
     "data": {
      "text/plain": [
       "'from sklearn.feature_selection import SequentialFeatureSelector\\nfrom catboost import CatBoostRegressor\\nfrom xgboost import XGBRegressor\\n\\nfor i in range(1,9):\\n    xgb_reg = XGBRegressor(random_state=42)\\n\\n    sfs = SequentialFeatureSelector(xgb_reg,\\n                                    n_features_to_select=i,\\n                                    direction=\\'forward\\',\\n                                    scoring=\\'r2\\',\\n                                    cv=5)\\n\\n    sfs.fit(X_mix, y_mix)\\n\\n    # Print the selected features\\n    print(\"Selected features\" + f\"{i}:\", sfs.get_feature_names_out())\\n\\n\\nuseful_features1 = [\\'IFT\\']\\nuseful_features2 = [\\'Methane\\', \\'IFT\\']\\nuseful_features3 = [\\'Methane\\', \\'Ethane\\', \\'IFT\\']\\nuseful_features4 = [\\'Methane\\', \\'Ethane\\', \\'Water\\', \\'IFT\\']\\nuseful_features5 = [\\'Methane\\', \\'Ethylene\\', \\'Ethane\\', \\'BDV\\', \\'IFT\\']\\nuseful_features6 = [\\'Methane\\', \\'Ethylene\\', \\'Ethane\\', \\'Water\\', \\'BDV\\', \\'IFT\\']\\nuseful_features7 = [\\'H2\\', \\'Methane\\', \\'Acetylene\\', \\'Ethylene\\', \\'Ethane\\', \\'BDV\\', \\'IFT\\']\\nuseful_features8 = [\\'H2\\', \\'Methane\\', \\'Ethylene\\', \\'Ethane\\', \\'Water\\', \\'Acid\\', \\'BDV\\', \\'IFT\\']'"
      ]
     },
     "execution_count": 4,
     "metadata": {},
     "output_type": "execute_result"
    }
   ],
   "source": [
    "'''from sklearn.feature_selection import SequentialFeatureSelector\n",
    "from catboost import CatBoostRegressor\n",
    "from xgboost import XGBRegressor\n",
    "\n",
    "for i in range(1,9):\n",
    "    xgb_reg = XGBRegressor(random_state=42)\n",
    "\n",
    "    sfs = SequentialFeatureSelector(xgb_reg,\n",
    "                                    n_features_to_select=i,\n",
    "                                    direction='forward',\n",
    "                                    scoring='r2',\n",
    "                                    cv=5)\n",
    "\n",
    "    sfs.fit(X_mix, y_mix)\n",
    "\n",
    "    # Print the selected features\n",
    "    print(\"Selected features\" + f\"{i}:\", sfs.get_feature_names_out())\n",
    "\n",
    "\n",
    "useful_features1 = ['IFT']\n",
    "useful_features2 = ['Methane', 'IFT']\n",
    "useful_features3 = ['Methane', 'Ethane', 'IFT']\n",
    "useful_features4 = ['Methane', 'Ethane', 'Water', 'IFT']\n",
    "useful_features5 = ['Methane', 'Ethylene', 'Ethane', 'BDV', 'IFT']\n",
    "useful_features6 = ['Methane', 'Ethylene', 'Ethane', 'Water', 'BDV', 'IFT']\n",
    "useful_features7 = ['H2', 'Methane', 'Acetylene', 'Ethylene', 'Ethane', 'BDV', 'IFT']\n",
    "useful_features8 = ['H2', 'Methane', 'Ethylene', 'Ethane', 'Water', 'Acid', 'BDV', 'IFT']'''"
   ]
  },
  {
   "cell_type": "code",
   "execution_count": 5,
   "id": "28b10d84",
   "metadata": {
    "execution": {
     "iopub.execute_input": "2023-06-04T14:58:02.474869Z",
     "iopub.status.busy": "2023-06-04T14:58:02.474417Z",
     "iopub.status.idle": "2023-06-04T14:58:02.481595Z",
     "shell.execute_reply": "2023-06-04T14:58:02.480389Z"
    },
    "papermill": {
     "duration": 0.019424,
     "end_time": "2023-06-04T14:58:02.484051",
     "exception": false,
     "start_time": "2023-06-04T14:58:02.464627",
     "status": "completed"
    },
    "tags": []
   },
   "outputs": [],
   "source": [
    "useful_features1 = ['IFT']\n",
    "useful_features2 = ['Methane', 'IFT']\n",
    "useful_features3 = ['Methane', 'Ethane', 'IFT']\n",
    "useful_features4 = ['Methane', 'Ethane', 'Water', 'IFT']\n",
    "useful_features5 = ['Methane', 'Water', 'Ethane', 'BDV', 'IFT']\n",
    "useful_features6 = ['Methane', 'Acetylene', 'Ethane', 'Water', 'BDV', 'IFT']\n",
    "useful_features7 = ['Water', 'Methane', 'Acetylene', 'Ethylene', 'Ethane', 'BDV', 'IFT']\n",
    "useful_features8 = ['H2', 'Methane', 'Ethylene', 'Ethane', 'Water', 'Acetylene', 'BDV', 'IFT']"
   ]
  },
  {
   "cell_type": "code",
   "execution_count": 6,
   "id": "8ee2e9fa",
   "metadata": {
    "execution": {
     "iopub.execute_input": "2023-06-04T14:58:02.503562Z",
     "iopub.status.busy": "2023-06-04T14:58:02.503159Z",
     "iopub.status.idle": "2023-06-04T14:58:02.510286Z",
     "shell.execute_reply": "2023-06-04T14:58:02.508673Z"
    },
    "papermill": {
     "duration": 0.020237,
     "end_time": "2023-06-04T14:58:02.512977",
     "exception": false,
     "start_time": "2023-06-04T14:58:02.492740",
     "status": "completed"
    },
    "tags": []
   },
   "outputs": [],
   "source": [
    "Selected_features1= ['Acid']\n",
    "Selected_features2= ['Acid', 'IFT']\n",
    "Selected_features3= ['Water', 'Acid', 'IFT']\n",
    "Selected_features4= ['Water', 'Acid', 'BDV', 'IFT']\n",
    "Selected_features5= ['Methane', 'Water', 'Acid', 'BDV', 'IFT']\n",
    "Selected_features6= ['Methane', 'Acetylene', 'Water', 'Acid', 'BDV', 'IFT']\n",
    "Selected_features7= ['Methane', 'Acetylene', 'Ethane', 'Water', 'Acid', 'BDV', 'IFT']\n",
    "Selected_features8= ['H2', 'Methane', 'Acetylene', 'Ethane', 'Water', 'Acid', 'BDV', 'IFT']"
   ]
  },
  {
   "cell_type": "markdown",
   "id": "b5f92d53",
   "metadata": {
    "papermill": {
     "duration": 0.010801,
     "end_time": "2023-06-04T14:58:02.533971",
     "exception": false,
     "start_time": "2023-06-04T14:58:02.523170",
     "status": "completed"
    },
    "tags": []
   },
   "source": [
    "# First case: Using stratified cross-validation (Round-Robin)"
   ]
  },
  {
   "cell_type": "markdown",
   "id": "c02649f7",
   "metadata": {
    "papermill": {
     "duration": 0.010799,
     "end_time": "2023-06-04T14:58:02.556322",
     "exception": false,
     "start_time": "2023-06-04T14:58:02.545523",
     "status": "completed"
    },
    "tags": []
   },
   "source": [
    "We have experimented a combination of different models in the ensemble.\n",
    "Although the results were quite similar, we found that a combination of KNN, svm, mlp and logistic regression works best.\n",
    "In the code below we have created a voting classifier consist of these models."
   ]
  },
  {
   "cell_type": "markdown",
   "id": "ba91f775",
   "metadata": {
    "papermill": {
     "duration": 0.01295,
     "end_time": "2023-06-04T14:58:02.580712",
     "exception": false,
     "start_time": "2023-06-04T14:58:02.567762",
     "status": "completed"
    },
    "tags": []
   },
   "source": [
    "**Using XGB and without any feature selection**"
   ]
  },
  {
   "cell_type": "code",
   "execution_count": 7,
   "id": "ed8732d4",
   "metadata": {
    "execution": {
     "iopub.execute_input": "2023-06-04T14:58:02.606398Z",
     "iopub.status.busy": "2023-06-04T14:58:02.605991Z",
     "iopub.status.idle": "2023-06-04T14:58:06.392430Z",
     "shell.execute_reply": "2023-06-04T14:58:06.391473Z"
    },
    "papermill": {
     "duration": 3.80534,
     "end_time": "2023-06-04T14:58:06.395137",
     "exception": false,
     "start_time": "2023-06-04T14:58:02.589797",
     "status": "completed"
    },
    "tags": []
   },
   "outputs": [
    {
     "name": "stdout",
     "output_type": "stream",
     "text": [
      "0.3000141765494915\n",
      "0.7651507953826207\n",
      "0.36220412933485957\n",
      "0.5272956632763538\n",
      "0.37799596779911054\n",
      "Mean absolute error A: 0.26045975661355963\n",
      "Mean squared error A: 0.46653214646848723\n"
     ]
    }
   ],
   "source": [
    "from sklearn.model_selection import StratifiedShuffleSplit\n",
    "from sklearn.metrics import mean_squared_error\n",
    "from xgboost import XGBRegressor\n",
    "\n",
    "# define the number of folds\n",
    "n_splits = 5\n",
    "\n",
    "# create an instance of StratifiedShuffleSplit\n",
    "sss = StratifiedShuffleSplit(n_splits=n_splits, random_state=42)\n",
    "\n",
    "# create an empty list to store the mean squared error for each fold\n",
    "mse_list = []\n",
    "\n",
    "# iterate over the splits and train/test the model on each split\n",
    "for train_index, test_index in sss.split(X_mix, y_stratify):\n",
    "    \n",
    "    # get the training and testing data for this split\n",
    "    X_train, X_test = X_mix.loc[train_index], X_mix.loc[test_index]\n",
    "    y_train, y_test = y_mix.loc[train_index], y_mix.loc[test_index]\n",
    "    \n",
    "    # create and fit the model\n",
    "    xgb_reg = XGBRegressor(random_state=42)\n",
    "    xgb_reg.fit(X_train, y_train)\n",
    "    \n",
    "    # make predictions on the test data\n",
    "    y_pred = xgb_reg.predict(X_test)\n",
    "    \n",
    "    # calculate the mean squared error and add it to the list\n",
    "    print(mean_squared_error(y_test, y_pred))\n",
    "    mse_list.append(mean_squared_error(y_test, y_pred))\n",
    "\n",
    "# calculate the mean of the mean squared error across all the folds\n",
    "mse_mean = np.mean(mse_list)\n",
    "print('Mean absolute error A:', np.mean(np.abs(y_pred - y_test)))\n",
    "print('Mean squared error A:',mse_mean)"
   ]
  },
  {
   "cell_type": "markdown",
   "id": "2ef0f0c4",
   "metadata": {
    "papermill": {
     "duration": 0.007795,
     "end_time": "2023-06-04T14:58:06.411061",
     "exception": false,
     "start_time": "2023-06-04T14:58:06.403266",
     "status": "completed"
    },
    "tags": []
   },
   "source": [
    "**Using XGB and feature selection**"
   ]
  },
  {
   "cell_type": "code",
   "execution_count": 8,
   "id": "2149ce24",
   "metadata": {
    "execution": {
     "iopub.execute_input": "2023-06-04T14:58:06.430168Z",
     "iopub.status.busy": "2023-06-04T14:58:06.429294Z",
     "iopub.status.idle": "2023-06-04T14:58:07.406933Z",
     "shell.execute_reply": "2023-06-04T14:58:07.405302Z"
    },
    "papermill": {
     "duration": 0.990456,
     "end_time": "2023-06-04T14:58:07.409709",
     "exception": false,
     "start_time": "2023-06-04T14:58:06.419253",
     "status": "completed"
    },
    "tags": []
   },
   "outputs": [
    {
     "name": "stdout",
     "output_type": "stream",
     "text": [
      "0.27882777599039704\n",
      "0.6424226094395493\n",
      "0.3333520431218333\n",
      "0.6679665143431887\n",
      "0.3162367878347854\n",
      "Mean absolute error A: 0.24968449373453533\n",
      "Mean squared error A: 0.44776114614595075\n"
     ]
    }
   ],
   "source": [
    "from sklearn.model_selection import StratifiedShuffleSplit\n",
    "from sklearn.metrics import mean_squared_error\n",
    "from xgboost import XGBRegressor\n",
    "\n",
    "# define the number of folds\n",
    "n_splits = 5\n",
    "\n",
    "# create an instance of StratifiedShuffleSplit\n",
    "sss = StratifiedShuffleSplit(n_splits=n_splits, random_state=42)\n",
    "\n",
    "# create an empty list to store the mean squared error for each fold\n",
    "mse_list = []\n",
    "\n",
    "# iterate over the splits and train/test the model on each split\n",
    "for train_index, test_index in sss.split(X_mix, y_stratify):\n",
    "    \n",
    "    # get the training and testing data for this split\n",
    "    X_train, X_test = X_mix.loc[train_index], X_mix.loc[test_index]\n",
    "    y_train, y_test = y_mix.loc[train_index], y_mix.loc[test_index]\n",
    "    \n",
    "    # create and fit the model\n",
    "    xgb_reg = XGBRegressor(random_state=42)\n",
    "    xgb_reg.fit(X_train[Selected_features8], y_train)\n",
    "    \n",
    "    # make predictions on the test data\n",
    "    y_pred = xgb_reg.predict(X_test[Selected_features8])\n",
    "    \n",
    "    # calculate the mean squared error and add it to the list\n",
    "    print(mean_squared_error(y_test, y_pred))\n",
    "    mse_list.append(mean_squared_error(y_test, y_pred))\n",
    "\n",
    "# calculate the mean of the mean squared error across all the folds\n",
    "mse_mean = np.mean(mse_list)\n",
    "print('Mean absolute error A:', np.mean(np.abs(y_pred - y_test)))\n",
    "print('Mean squared error A:',mse_mean)"
   ]
  },
  {
   "cell_type": "markdown",
   "id": "4b9df689",
   "metadata": {
    "papermill": {
     "duration": 0.0102,
     "end_time": "2023-06-04T14:58:07.430125",
     "exception": false,
     "start_time": "2023-06-04T14:58:07.419925",
     "status": "completed"
    },
    "tags": []
   },
   "source": [
    "**Using CatBoost**"
   ]
  },
  {
   "cell_type": "code",
   "execution_count": 9,
   "id": "aceb28df",
   "metadata": {
    "execution": {
     "iopub.execute_input": "2023-06-04T14:58:07.449768Z",
     "iopub.status.busy": "2023-06-04T14:58:07.449247Z",
     "iopub.status.idle": "2023-06-04T14:58:15.857876Z",
     "shell.execute_reply": "2023-06-04T14:58:15.856590Z"
    },
    "papermill": {
     "duration": 8.421506,
     "end_time": "2023-06-04T14:58:15.860431",
     "exception": false,
     "start_time": "2023-06-04T14:58:07.438925",
     "status": "completed"
    },
    "tags": []
   },
   "outputs": [
    {
     "name": "stdout",
     "output_type": "stream",
     "text": [
      "0.34209066867139426\n",
      "1.0190729791694189\n",
      "0.2188961034811211\n",
      "0.6595825127033147\n",
      "0.32689179127579165\n",
      "Mean absolute error A: 0.24550323073216282\n",
      "Mean squared error A: 0.5133068110602081\n"
     ]
    }
   ],
   "source": [
    "from sklearn.model_selection import StratifiedShuffleSplit\n",
    "from sklearn.metrics import mean_squared_error\n",
    "from catboost import CatBoostRegressor\n",
    "\n",
    "# define the number of folds\n",
    "n_splits = 5\n",
    "\n",
    "# create an instance of StratifiedShuffleSplit\n",
    "sss = StratifiedShuffleSplit(n_splits=n_splits, random_state=42)\n",
    "\n",
    "# create an empty list to store the mean squared error for each fold\n",
    "mse_list = []\n",
    "\n",
    "# iterate over the splits and train/test the model on each split\n",
    "for train_index, test_index in sss.split(X_mix, y_stratify):\n",
    "    \n",
    "    # get the training and testing data for this split\n",
    "    X_train, X_test = X_mix.loc[train_index], X_mix.loc[test_index]\n",
    "    y_train, y_test = y_mix.loc[train_index], y_mix.loc[test_index]\n",
    "    \n",
    "    # create and fit the model\n",
    "    cat_reg = CatBoostRegressor(verbose = 0, loss_function='RMSE', random_seed=42)\n",
    "    cat_reg.fit(X_train, y_train)\n",
    "    \n",
    "    # make predictions on the test data\n",
    "    y_pred = cat_reg.predict(X_test)\n",
    "    \n",
    "    # calculate the mean squared error and add it to the list\n",
    "    print(mean_squared_error(y_test, y_pred))\n",
    "    mse_list.append(mean_squared_error(y_test, y_pred))\n",
    "\n",
    "# calculate the mean of the mean squared error across all the folds\n",
    "mse_mean = np.mean(mse_list)\n",
    "print('Mean absolute error A:', np.mean(np.abs(y_pred - y_test)))\n",
    "print('Mean squared error A:',mse_mean)"
   ]
  },
  {
   "cell_type": "markdown",
   "id": "a883265a",
   "metadata": {
    "papermill": {
     "duration": 0.008186,
     "end_time": "2023-06-04T14:58:15.877349",
     "exception": false,
     "start_time": "2023-06-04T14:58:15.869163",
     "status": "completed"
    },
    "tags": []
   },
   "source": [
    "**Using catboost and feature selection**"
   ]
  },
  {
   "cell_type": "code",
   "execution_count": 10,
   "id": "4b72adb3",
   "metadata": {
    "execution": {
     "iopub.execute_input": "2023-06-04T14:58:15.899341Z",
     "iopub.status.busy": "2023-06-04T14:58:15.897542Z",
     "iopub.status.idle": "2023-06-04T14:58:23.399375Z",
     "shell.execute_reply": "2023-06-04T14:58:23.398409Z"
    },
    "papermill": {
     "duration": 7.514788,
     "end_time": "2023-06-04T14:58:23.401797",
     "exception": false,
     "start_time": "2023-06-04T14:58:15.887009",
     "status": "completed"
    },
    "tags": []
   },
   "outputs": [
    {
     "name": "stdout",
     "output_type": "stream",
     "text": [
      "0.29001227707922894\n",
      "1.0293897540790073\n",
      "0.24982988739828568\n",
      "0.6346878078987841\n",
      "0.2736885227255909\n",
      "Mean absolute error A: 0.22448906356806927\n",
      "Mean squared error A: 0.4955216498361793\n"
     ]
    }
   ],
   "source": [
    "from sklearn.model_selection import StratifiedShuffleSplit\n",
    "from sklearn.metrics import mean_squared_error\n",
    "from catboost import CatBoostRegressor\n",
    "\n",
    "# define the number of folds\n",
    "n_splits = 5\n",
    "\n",
    "# create an instance of StratifiedShuffleSplit\n",
    "sss = StratifiedShuffleSplit(n_splits=n_splits, random_state=42)\n",
    "\n",
    "# create an empty list to store the mean squared error for each fold\n",
    "mse_list = []\n",
    "\n",
    "# iterate over the splits and train/test the model on each split\n",
    "for train_index, test_index in sss.split(X_mix, y_stratify):\n",
    "    \n",
    "    # get the training and testing data for this split\n",
    "    X_train, X_test = X_mix.loc[train_index], X_mix.loc[test_index]\n",
    "    y_train, y_test = y_mix.loc[train_index], y_mix.loc[test_index]\n",
    "    \n",
    "    # create and fit the model\n",
    "    cat_reg = CatBoostRegressor(verbose = 0, loss_function='RMSE', random_seed=42)\n",
    "    cat_reg.fit(X_train[Selected_features8], y_train)\n",
    "    \n",
    "    # make predictions on the test data\n",
    "    y_pred = cat_reg.predict(X_test[Selected_features8])\n",
    "    \n",
    "    # calculate the mean squared error and add it to the list\n",
    "    print(mean_squared_error(y_test, y_pred))\n",
    "    mse_list.append(mean_squared_error(y_test, y_pred))\n",
    "\n",
    "# calculate the mean of the mean squared error across all the folds\n",
    "mse_mean = np.mean(mse_list)\n",
    "print('Mean absolute error A:', np.mean(np.abs(y_pred - y_test)))\n",
    "print('Mean squared error A:',mse_mean)"
   ]
  },
  {
   "cell_type": "markdown",
   "id": "60432028",
   "metadata": {
    "papermill": {
     "duration": 0.008522,
     "end_time": "2023-06-04T14:58:23.419298",
     "exception": false,
     "start_time": "2023-06-04T14:58:23.410776",
     "status": "completed"
    },
    "tags": []
   },
   "source": [
    "# Using 75% for train and 25% for test (Stratified test set)"
   ]
  },
  {
   "cell_type": "code",
   "execution_count": 11,
   "id": "304ca60e",
   "metadata": {
    "execution": {
     "iopub.execute_input": "2023-06-04T14:58:23.439356Z",
     "iopub.status.busy": "2023-06-04T14:58:23.438519Z",
     "iopub.status.idle": "2023-06-04T14:58:23.458054Z",
     "shell.execute_reply": "2023-06-04T14:58:23.456569Z"
    },
    "papermill": {
     "duration": 0.033256,
     "end_time": "2023-06-04T14:58:23.461257",
     "exception": false,
     "start_time": "2023-06-04T14:58:23.428001",
     "status": "completed"
    },
    "tags": []
   },
   "outputs": [],
   "source": [
    "from sklearn.model_selection import train_test_split\n",
    "train_mix, test_mix = train_test_split(ds_mix, test_size = 0.25, random_state = 42, stratify=y_stratify)\n",
    "\n",
    "y_train = train_mix['Furan']\n",
    "X_train = train_mix.drop(['Furan', 'HI'], axis=1)\n",
    "\n",
    "y_test = test_mix['Furan']\n",
    "X_test = test_mix.drop(['Furan', 'HI'], axis=1)"
   ]
  },
  {
   "cell_type": "markdown",
   "id": "3af2cff7",
   "metadata": {
    "papermill": {
     "duration": 0.00889,
     "end_time": "2023-06-04T14:58:23.479815",
     "exception": false,
     "start_time": "2023-06-04T14:58:23.470925",
     "status": "completed"
    },
    "tags": []
   },
   "source": [
    "**With Catboost**"
   ]
  },
  {
   "cell_type": "code",
   "execution_count": 12,
   "id": "68dc9956",
   "metadata": {
    "execution": {
     "iopub.execute_input": "2023-06-04T14:58:23.500581Z",
     "iopub.status.busy": "2023-06-04T14:58:23.500176Z",
     "iopub.status.idle": "2023-06-04T14:58:24.997590Z",
     "shell.execute_reply": "2023-06-04T14:58:24.996442Z"
    },
    "papermill": {
     "duration": 1.510851,
     "end_time": "2023-06-04T14:58:25.000002",
     "exception": false,
     "start_time": "2023-06-04T14:58:23.489151",
     "status": "completed"
    },
    "tags": []
   },
   "outputs": [
    {
     "name": "stdout",
     "output_type": "stream",
     "text": [
      "Mean absolute error A: 0.30543095425565536\n",
      "0.5187898978005979\n"
     ]
    }
   ],
   "source": [
    "cat_reg = CatBoostRegressor(verbose = 0, loss_function='RMSE', random_seed=42)\n",
    "cat_reg.fit(X_train, y_train)\n",
    "\n",
    "# make predictions on the test data\n",
    "y_pred = cat_reg.predict(X_test)\n",
    "\n",
    "# calculate the mean squared error and add it to the list\n",
    "print('Mean absolute error A:', np.mean(np.abs(y_pred - y_test)))\n",
    "print(mean_squared_error(y_test, y_pred))"
   ]
  },
  {
   "cell_type": "markdown",
   "id": "6922a2e1",
   "metadata": {
    "papermill": {
     "duration": 0.0088,
     "end_time": "2023-06-04T14:58:25.018661",
     "exception": false,
     "start_time": "2023-06-04T14:58:25.009861",
     "status": "completed"
    },
    "tags": []
   },
   "source": [
    "**With Random Forest**"
   ]
  },
  {
   "cell_type": "code",
   "execution_count": 13,
   "id": "eec255b7",
   "metadata": {
    "execution": {
     "iopub.execute_input": "2023-06-04T14:58:25.038799Z",
     "iopub.status.busy": "2023-06-04T14:58:25.038169Z",
     "iopub.status.idle": "2023-06-04T14:58:29.541852Z",
     "shell.execute_reply": "2023-06-04T14:58:29.540819Z"
    },
    "papermill": {
     "duration": 4.517577,
     "end_time": "2023-06-04T14:58:29.545091",
     "exception": false,
     "start_time": "2023-06-04T14:58:25.027514",
     "status": "completed"
    },
    "tags": []
   },
   "outputs": [
    {
     "name": "stdout",
     "output_type": "stream",
     "text": [
      "Mean absolute error A: 0.2956884487284601\n",
      "Mean squared error A: 0.5512607577165163\n"
     ]
    }
   ],
   "source": [
    "from sklearn.tree import DecisionTreeRegressor\n",
    "from sklearn.ensemble import RandomForestRegressor\n",
    "\n",
    "rf = RandomForestRegressor(random_state=42, n_estimators=800, min_samples_leaf=2)\n",
    "rf.fit(X_train, y_train)\n",
    "\n",
    "# make predictions on the test data\n",
    "y_pred = rf.predict(X_test)\n",
    "\n",
    "# calculate the mean squared error and add it to the list\n",
    "print('Mean absolute error A:', np.mean(np.abs(y_pred - y_test)))\n",
    "print('Mean squared error A:', mean_squared_error(y_test, y_pred))"
   ]
  },
  {
   "cell_type": "markdown",
   "id": "2920cc42",
   "metadata": {
    "papermill": {
     "duration": 0.009016,
     "end_time": "2023-06-04T14:58:29.564065",
     "exception": false,
     "start_time": "2023-06-04T14:58:29.555049",
     "status": "completed"
    },
    "tags": []
   },
   "source": [
    "**With XGBoost**"
   ]
  },
  {
   "cell_type": "code",
   "execution_count": 14,
   "id": "9453ba51",
   "metadata": {
    "execution": {
     "iopub.execute_input": "2023-06-04T14:58:29.587041Z",
     "iopub.status.busy": "2023-06-04T14:58:29.586275Z",
     "iopub.status.idle": "2023-06-04T14:58:29.753129Z",
     "shell.execute_reply": "2023-06-04T14:58:29.751869Z"
    },
    "papermill": {
     "duration": 0.1817,
     "end_time": "2023-06-04T14:58:29.755941",
     "exception": false,
     "start_time": "2023-06-04T14:58:29.574241",
     "status": "completed"
    },
    "tags": []
   },
   "outputs": [
    {
     "name": "stdout",
     "output_type": "stream",
     "text": [
      "Mean absolute error A: 0.2734135459532113\n",
      "Mean squared error A: 0.43990406657519876\n"
     ]
    }
   ],
   "source": [
    "from xgboost import XGBRegressor\n",
    "\n",
    "xgb = XGBRegressor(random_state=42, learning_rate= 0.15, gamma=0.5, reg_alpha=1.0)\n",
    "xgb.fit(X_train, y_train)\n",
    "\n",
    "# make predictions on the test data\n",
    "y_pred = xgb.predict(X_test)\n",
    "\n",
    "# calculate the mean squared error and add it to the list\n",
    "print('Mean absolute error A:', np.mean(np.abs(y_pred - y_test)))\n",
    "print('Mean squared error A:', mean_squared_error(y_test, y_pred))"
   ]
  },
  {
   "cell_type": "markdown",
   "id": "26cdd0ba",
   "metadata": {
    "papermill": {
     "duration": 0.009571,
     "end_time": "2023-06-04T14:58:29.775821",
     "exception": false,
     "start_time": "2023-06-04T14:58:29.766250",
     "status": "completed"
    },
    "tags": []
   },
   "source": [
    "# Using 75% for train and 25% for test (no stratify)"
   ]
  },
  {
   "cell_type": "code",
   "execution_count": 15,
   "id": "7f2a1a26",
   "metadata": {
    "execution": {
     "iopub.execute_input": "2023-06-04T14:58:29.804732Z",
     "iopub.status.busy": "2023-06-04T14:58:29.804127Z",
     "iopub.status.idle": "2023-06-04T14:58:29.817083Z",
     "shell.execute_reply": "2023-06-04T14:58:29.815608Z"
    },
    "papermill": {
     "duration": 0.03256,
     "end_time": "2023-06-04T14:58:29.819459",
     "exception": false,
     "start_time": "2023-06-04T14:58:29.786899",
     "status": "completed"
    },
    "tags": []
   },
   "outputs": [],
   "source": [
    "from sklearn.model_selection import train_test_split\n",
    "train_mix, test_mix = train_test_split(ds_mix, test_size = 0.25, random_state = 42)\n",
    "\n",
    "y_train = train_mix['Furan']\n",
    "X_train = train_mix.drop(['Furan', 'HI'], axis=1)\n",
    "\n",
    "y_test = test_mix['Furan']\n",
    "X_test = test_mix.drop(['Furan', 'HI'], axis=1)"
   ]
  },
  {
   "cell_type": "markdown",
   "id": "a522397f",
   "metadata": {
    "papermill": {
     "duration": 0.008982,
     "end_time": "2023-06-04T14:58:29.841283",
     "exception": false,
     "start_time": "2023-06-04T14:58:29.832301",
     "status": "completed"
    },
    "tags": []
   },
   "source": [
    "**With CatBoost**"
   ]
  },
  {
   "cell_type": "code",
   "execution_count": 16,
   "id": "1a15b7a5",
   "metadata": {
    "execution": {
     "iopub.execute_input": "2023-06-04T14:58:29.862346Z",
     "iopub.status.busy": "2023-06-04T14:58:29.861884Z",
     "iopub.status.idle": "2023-06-04T14:58:31.326657Z",
     "shell.execute_reply": "2023-06-04T14:58:31.325175Z"
    },
    "papermill": {
     "duration": 1.478672,
     "end_time": "2023-06-04T14:58:31.329404",
     "exception": false,
     "start_time": "2023-06-04T14:58:29.850732",
     "status": "completed"
    },
    "tags": []
   },
   "outputs": [
    {
     "name": "stdout",
     "output_type": "stream",
     "text": [
      "Mean absolute error A: 0.34076890427507034\n",
      "Mean squared error A: 0.7330922387370162\n"
     ]
    }
   ],
   "source": [
    "cat_reg = CatBoostRegressor(verbose = 0, loss_function='RMSE', random_seed=42)\n",
    "cat_reg.fit(X_train, y_train)\n",
    "\n",
    "# make predictions on the test data\n",
    "y_pred = cat_reg.predict(X_test)\n",
    "\n",
    "# calculate the mean squared error and add it to the list\n",
    "print('Mean absolute error A:', np.mean(np.abs(y_pred - y_test)))\n",
    "print('Mean squared error A:',mean_squared_error(y_test, y_pred))"
   ]
  },
  {
   "cell_type": "markdown",
   "id": "6e1908d9",
   "metadata": {
    "papermill": {
     "duration": 0.009004,
     "end_time": "2023-06-04T14:58:31.348289",
     "exception": false,
     "start_time": "2023-06-04T14:58:31.339285",
     "status": "completed"
    },
    "tags": []
   },
   "source": [
    "**With Random Forest**"
   ]
  },
  {
   "cell_type": "code",
   "execution_count": 17,
   "id": "fffc168b",
   "metadata": {
    "execution": {
     "iopub.execute_input": "2023-06-04T14:58:31.370404Z",
     "iopub.status.busy": "2023-06-04T14:58:31.369971Z",
     "iopub.status.idle": "2023-06-04T14:58:35.468360Z",
     "shell.execute_reply": "2023-06-04T14:58:35.466495Z"
    },
    "papermill": {
     "duration": 4.112689,
     "end_time": "2023-06-04T14:58:35.471313",
     "exception": false,
     "start_time": "2023-06-04T14:58:31.358624",
     "status": "completed"
    },
    "tags": []
   },
   "outputs": [
    {
     "name": "stdout",
     "output_type": "stream",
     "text": [
      "Mean absolute error A: 0.33733986216620415\n",
      "Mean squared error A: 0.6758888911526967\n"
     ]
    }
   ],
   "source": [
    "from sklearn.tree import DecisionTreeRegressor\n",
    "from sklearn.ensemble import RandomForestRegressor\n",
    "\n",
    "rf = RandomForestRegressor(random_state=42, n_estimators=800, min_samples_leaf=2)\n",
    "rf.fit(X_train, y_train)\n",
    "\n",
    "# make predictions on the test data\n",
    "y_pred = rf.predict(X_test)\n",
    "\n",
    "# calculate the mean squared error and add it to the list\n",
    "print('Mean absolute error A:', np.mean(np.abs(y_pred - y_test)))\n",
    "print('Mean squared error A:', mean_squared_error(y_test, y_pred))"
   ]
  },
  {
   "cell_type": "markdown",
   "id": "d9d7f7a1",
   "metadata": {
    "papermill": {
     "duration": 0.008692,
     "end_time": "2023-06-04T14:58:35.489543",
     "exception": false,
     "start_time": "2023-06-04T14:58:35.480851",
     "status": "completed"
    },
    "tags": []
   },
   "source": [
    "**With XGBoost**"
   ]
  },
  {
   "cell_type": "code",
   "execution_count": 18,
   "id": "71adbb83",
   "metadata": {
    "execution": {
     "iopub.execute_input": "2023-06-04T14:58:35.509879Z",
     "iopub.status.busy": "2023-06-04T14:58:35.509347Z",
     "iopub.status.idle": "2023-06-04T14:58:35.759978Z",
     "shell.execute_reply": "2023-06-04T14:58:35.758757Z"
    },
    "papermill": {
     "duration": 0.264572,
     "end_time": "2023-06-04T14:58:35.763200",
     "exception": false,
     "start_time": "2023-06-04T14:58:35.498628",
     "status": "completed"
    },
    "tags": []
   },
   "outputs": [
    {
     "name": "stdout",
     "output_type": "stream",
     "text": [
      "Mean absolute error A: 0.32299159541889444\n",
      "Mean squared error A: 0.5782070387849633\n"
     ]
    }
   ],
   "source": [
    "from xgboost import XGBRegressor\n",
    "\n",
    "xgb = XGBRegressor(random_state=42, learning_rate= 0.15, gamma=0.5, reg_alpha=1.0)\n",
    "xgb.fit(X_train, y_train)\n",
    "\n",
    "# make predictions on the test data\n",
    "y_pred = xgb.predict(X_test)\n",
    "\n",
    "# calculate the mean squared error and add it to the list\n",
    "print('Mean absolute error A:', np.mean(np.abs(y_pred - y_test)))\n",
    "print('Mean squared error A:', mean_squared_error(y_test, y_pred))"
   ]
  },
  {
   "cell_type": "markdown",
   "id": "1ab8c3f1",
   "metadata": {
    "papermill": {
     "duration": 0.013984,
     "end_time": "2023-06-04T14:58:35.786439",
     "exception": false,
     "start_time": "2023-06-04T14:58:35.772455",
     "status": "completed"
    },
    "tags": []
   },
   "source": [
    "# Blending model"
   ]
  },
  {
   "cell_type": "code",
   "execution_count": 19,
   "id": "0834a282",
   "metadata": {
    "execution": {
     "iopub.execute_input": "2023-06-04T14:58:35.810158Z",
     "iopub.status.busy": "2023-06-04T14:58:35.808932Z",
     "iopub.status.idle": "2023-06-04T14:58:35.838685Z",
     "shell.execute_reply": "2023-06-04T14:58:35.837446Z"
    },
    "papermill": {
     "duration": 0.043801,
     "end_time": "2023-06-04T14:58:35.841656",
     "exception": false,
     "start_time": "2023-06-04T14:58:35.797855",
     "status": "completed"
    },
    "tags": []
   },
   "outputs": [],
   "source": [
    "train_valid_mix, test_mix = train_test_split(ds_mix, test_size = 0.25, random_state = 42, stratify=y_stratify)\n",
    "\n",
    "train_mix, valid_mix = train_test_split(train_valid_mix, test_size = 0.15, random_state = 42, stratify=y_stratify.loc[train_valid_mix.index])\n",
    "\n",
    "y_train = train_mix['Furan']\n",
    "X_train = train_mix.drop(['Furan', 'HI'], axis=1)\n",
    "\n",
    "y_test = test_mix['Furan']\n",
    "X_test = test_mix.drop(['Furan', 'HI'], axis=1)\n",
    "\n",
    "y_valid = valid_mix['Furan']\n",
    "X_valid = valid_mix.drop(['Furan', 'HI'], axis=1)"
   ]
  },
  {
   "cell_type": "code",
   "execution_count": 20,
   "id": "c2b4c7a7",
   "metadata": {
    "execution": {
     "iopub.execute_input": "2023-06-04T14:58:35.863901Z",
     "iopub.status.busy": "2023-06-04T14:58:35.862508Z",
     "iopub.status.idle": "2023-06-04T14:58:50.377853Z",
     "shell.execute_reply": "2023-06-04T14:58:50.376554Z"
    },
    "papermill": {
     "duration": 14.529304,
     "end_time": "2023-06-04T14:58:50.380587",
     "exception": false,
     "start_time": "2023-06-04T14:58:35.851283",
     "status": "completed"
    },
    "tags": []
   },
   "outputs": [
    {
     "name": "stdout",
     "output_type": "stream",
     "text": [
      "Mean absolute error A: 0.31663330360377356\n",
      "Mean squared error A: 0.5280468006895551\n"
     ]
    }
   ],
   "source": [
    "from sklearn.linear_model import LinearRegression\n",
    "from sklearn.ensemble import RandomForestRegressor\n",
    "from xgboost import XGBRegressor\n",
    "from catboost import CatBoostRegressor\n",
    "from sklearn.svm import SVR\n",
    "from sklearn.neighbors import KNeighborsRegressor\n",
    "from sklearn.neural_network import MLPRegressor\n",
    "from sklearn.model_selection import train_test_split\n",
    "from sklearn.linear_model import ElasticNet\n",
    "from sklearn.ensemble import AdaBoostRegressor\n",
    "\n",
    "# Train the base models\n",
    "lr = LinearRegression()\n",
    "rf = RandomForestRegressor(random_state=42)\n",
    "xgb = XGBRegressor(random_state=42)\n",
    "cat = CatBoostRegressor(verbose=0, random_state=42, loss_function='RMSE')\n",
    "svm = SVR(kernel='linear')\n",
    "knn = KNeighborsRegressor()\n",
    "mlp = MLPRegressor(max_iter=5000, random_state=42)\n",
    "el = ElasticNet(alpha=0.1, l1_ratio=0.1, random_state=42)\n",
    "ada = AdaBoostRegressor(random_state=42)\n",
    "\n",
    "lr.fit(X_train[useful_features8], y_train)\n",
    "rf.fit(X_train[useful_features8], y_train)\n",
    "xgb.fit(X_train[useful_features8], y_train)\n",
    "cat.fit(X_train[useful_features8], y_train)\n",
    "svm.fit(X_train[useful_features8], y_train)\n",
    "knn.fit(X_train[useful_features8], y_train)\n",
    "mlp.fit(X_train[useful_features8], y_train)\n",
    "el.fit(X_train[useful_features8], y_train)\n",
    "ada.fit(X_train[useful_features8], y_train)\n",
    "\n",
    "# Make predictions on the test set A\n",
    "lr_predictions = lr.predict(X_valid[useful_features8])\n",
    "rf_predictions = rf.predict(X_valid[useful_features8])\n",
    "xgb_predictions = xgb.predict(X_valid[useful_features8])\n",
    "cat_predictions = cat.predict(X_valid[useful_features8])\n",
    "svm_predictions = svm.predict(X_valid[useful_features8])\n",
    "knn_predictions = knn.predict(X_valid[useful_features8])\n",
    "el_predictions = el.predict(X_valid[useful_features8])\n",
    "ada_predictions = ada.predict(X_valid[useful_features8])\n",
    "\n",
    "# Combine the predictions using a meta model\n",
    "meta_model = RandomForestRegressor(random_state=42)\n",
    "meta_model.fit(np.column_stack([lr_predictions,\n",
    "                                #rf_predictions,\n",
    "                                xgb_predictions,\n",
    "                                #cat_predictions,\n",
    "                                #svm_predictions,\n",
    "                                knn_predictions,\n",
    "                                ada_predictions,\n",
    "                                el_predictions\n",
    "                                ]), y_valid)\n",
    "\n",
    "lr_predictions_test = lr.predict(X_test[useful_features8])\n",
    "rf_predictions_test = rf.predict(X_test[useful_features8])\n",
    "xgb_predictions_test = xgb.predict(X_test[useful_features8])\n",
    "cat_predictions_test = cat.predict(X_test[useful_features8])\n",
    "svm_predictions_test = svm.predict(X_test[useful_features8])\n",
    "knn_predictions_test = knn.predict(X_test[useful_features8])\n",
    "el_predictions_test = el.predict(X_test[useful_features8])\n",
    "ada_predictions_test = ada.predict(X_test[useful_features8])\n",
    "\n",
    "# Make predictions on the test set using the meta model\n",
    "blend_predictions = meta_model.predict(np.column_stack([lr_predictions_test,\n",
    "                                                        #rf_predictions_test,\n",
    "                                                        xgb_predictions_test,\n",
    "                                                        #cat_predictions_test,\n",
    "                                                        #svm_predictions_test,\n",
    "                                                        knn_predictions_test,\n",
    "                                                        ada_predictions_test,\n",
    "                                                        el_predictions_test\n",
    "                                                       ]))\n",
    "\n",
    "\n",
    "# Evaluate the model\n",
    "print('Mean absolute error A:', np.mean(np.abs(blend_predictions - y_test)))\n",
    "print('Mean squared error A:', np.mean((blend_predictions - y_test)**2))"
   ]
  }
 ],
 "metadata": {
  "kernelspec": {
   "display_name": "Python 3",
   "language": "python",
   "name": "python3"
  },
  "language_info": {
   "codemirror_mode": {
    "name": "ipython",
    "version": 3
   },
   "file_extension": ".py",
   "mimetype": "text/x-python",
   "name": "python",
   "nbconvert_exporter": "python",
   "pygments_lexer": "ipython3",
   "version": "3.10.10"
  },
  "papermill": {
   "default_parameters": {},
   "duration": 62.75332,
   "end_time": "2023-06-04T14:58:52.763484",
   "environment_variables": {},
   "exception": null,
   "input_path": "__notebook__.ipynb",
   "output_path": "__notebook__.ipynb",
   "parameters": {},
   "start_time": "2023-06-04T14:57:50.010164",
   "version": "2.4.0"
  }
 },
 "nbformat": 4,
 "nbformat_minor": 5
}
